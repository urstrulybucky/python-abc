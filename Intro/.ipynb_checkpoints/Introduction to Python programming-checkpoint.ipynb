{
 "cells": [
  {
   "cell_type": "markdown",
   "id": "3e9ee68e",
   "metadata": {},
   "source": [
    "# Introduction to Python programming"
   ]
  },
  {
   "cell_type": "markdown",
   "id": "c38896e5",
   "metadata": {},
   "source": [
    "Python is a popular programming language used for a variety of tasks, including web development, data analysis, and artificial intelligence. In this hands on Tutorial, you will learn the basics of Python programming, including variables, data types, control structures, functions, and modules.\n",
    "\n",
    "By the end of this course, you will have a solid understanding of Python programming concepts and be able to write  programs using Python."
   ]
  },
  {
   "cell_type": "markdown",
   "id": "38988e41",
   "metadata": {},
   "source": [
    "# Lesson 1: Variables and Data Types"
   ]
  },
  {
   "cell_type": "markdown",
   "id": "e7924d51",
   "metadata": {},
   "source": [
    "Variables are used to store values in a program. In Python, you don't need to declare the data type of a variable before using it. You can simply assign a value to a variable using the = operator. For example, to assign the value 10 to a variable called x, you would write:"
   ]
  },
  {
   "cell_type": "code",
   "execution_count": 1,
   "id": "9dcb2136",
   "metadata": {},
   "outputs": [],
   "source": [
    "x = 10\n"
   ]
  },
  {
   "cell_type": "markdown",
   "id": "e509ed0b",
   "metadata": {},
   "source": [
    "Python has several built-in data types, including integers, floating-point numbers, strings, lists, tuples, and dictionaries. Each data type has its own set of operations that can be performed on it.\n",
    "\n",
    "Integers are whole numbers, such as 1, 2, 3, and so on. Floating-point numbers are numbers with a decimal point, such as 1.5, 2.0, and so on. Strings are sequences of characters, enclosed in single or double quotes, such as \"hello\" or 'world'. Lists are ordered collections of values, enclosed in square brackets, such as [1, 2, 3]. Tuples are similar to lists, but they are immutable, meaning that their values cannot be changed once they are created. Dictionaries are collections of key-value pairs, enclosed in curly braces, such as {'name': 'John', 'age': 30}.\n",
    "\n",
    "To check the data type of a variable, you can use the type() function. For example, to check the data type of the variable x, you would write:"
   ]
  },
  {
   "cell_type": "code",
   "execution_count": 2,
   "id": "0a71fb65",
   "metadata": {},
   "outputs": [
    {
     "name": "stdout",
     "output_type": "stream",
     "text": [
      "<class 'int'>\n"
     ]
    }
   ],
   "source": [
    "print(type(x))  # Output: <class 'int'>"
   ]
  },
  {
   "cell_type": "markdown",
   "id": "35a88540",
   "metadata": {},
   "source": [
    "# Lesson 2: Control Structures"
   ]
  },
  {
   "cell_type": "markdown",
   "id": "a73e2f0d",
   "metadata": {},
   "source": [
    "Control structures are used to control the flow of a program. They allow you to execute different blocks of code depending on certain conditions. There are three types of control structures in Python: if statements, for loops, and while loops.\n",
    "\n",
    "If statements are used to execute a block of code only if a certain condition is true. The basic syntax of an if statement is:"
   ]
  },
  {
   "cell_type": "raw",
   "id": "55fb9fd8",
   "metadata": {},
   "source": [
    "if condition:\n",
    "    # code to execute if condition is true\n"
   ]
  },
  {
   "cell_type": "markdown",
   "id": "29999769",
   "metadata": {},
   "source": [
    "# For example, to print \"Hello, world!\" if a variable x is greater than 10, you would write:\n"
   ]
  },
  {
   "cell_type": "code",
   "execution_count": 4,
   "id": "06d9fe39",
   "metadata": {},
   "outputs": [
    {
     "name": "stdout",
     "output_type": "stream",
     "text": [
      "Hello, world!\n"
     ]
    }
   ],
   "source": [
    "x = 15\n",
    "\n",
    "if x > 10:\n",
    "    print(\"Hello, world!\")\n"
   ]
  },
  {
   "cell_type": "raw",
   "id": "9c24fc9f",
   "metadata": {},
   "source": [
    "For loops are used to iterate over a sequence of values, such as a list or a tuple. \n",
    "The basic syntax of a for loop is:\n",
    "\n",
    "for value in sequence:\n",
    "    # code to execute for each value in sequence"
   ]
  },
  {
   "cell_type": "markdown",
   "id": "562d7262",
   "metadata": {},
   "source": [
    "# Program  to print the values of a list of numbers, you would write:\n"
   ]
  },
  {
   "cell_type": "code",
   "execution_count": 5,
   "id": "9857f327",
   "metadata": {},
   "outputs": [
    {
     "name": "stdout",
     "output_type": "stream",
     "text": [
      "1\n",
      "2\n",
      "3\n",
      "4\n",
      "5\n"
     ]
    }
   ],
   "source": [
    "numbers = [1, 2, 3, 4, 5]\n",
    "\n",
    "for number in numbers:\n",
    "    print(number)\n"
   ]
  },
  {
   "cell_type": "markdown",
   "id": "7ec1b59d",
   "metadata": {},
   "source": [
    "While loops are used to execute a block of code as long as a certain condition is true. The basic syntax of a while loop is:"
   ]
  },
  {
   "cell_type": "raw",
   "id": "6a22955e",
   "metadata": {},
   "source": [
    "while condition:\n",
    "    # code to execute as long as condition is true\n"
   ]
  },
  {
   "cell_type": "code",
   "execution_count": 6,
   "id": "11db4af8",
   "metadata": {},
   "outputs": [
    {
     "name": "stdout",
     "output_type": "stream",
     "text": [
      "1\n",
      "2\n",
      "3\n",
      "4\n",
      "5\n"
     ]
    }
   ],
   "source": [
    "#write progroam using while Loop to print below numbers\n",
    "\n",
    "numbers = [1, 2, 3, 4, 5]\n",
    "index = 0\n",
    "\n",
    "while index < len(numbers):\n",
    "    print(numbers[index])\n",
    "    index += 1\n"
   ]
  },
  {
   "cell_type": "markdown",
   "id": "bf1f1296",
   "metadata": {},
   "source": [
    "# Lesson 3: Functions"
   ]
  },
  {
   "cell_type": "markdown",
   "id": "8123a12a",
   "metadata": {},
   "source": [
    "Functions are reusable blocks of code that perform a specific task. They allow you to organize your code into smaller, more manageable chunks. In Python, you define a function using the def keyword, followed by the function name and any parameters in parentheses. The body of the function is indented below the function definition. For example, to define a function that adds two numbers,"
   ]
  },
  {
   "cell_type": "code",
   "execution_count": 7,
   "id": "ab8bb3e8",
   "metadata": {},
   "outputs": [],
   "source": [
    "def add_numbers(x, y):\n",
    "    return x + y\n"
   ]
  },
  {
   "cell_type": "markdown",
   "id": "4651295a",
   "metadata": {},
   "source": [
    "You can call a function by using its name followed by parentheses, with any necessary arguments inside the parentheses. For example, to call the add_numbers function with the arguments 2 and 3"
   ]
  },
  {
   "cell_type": "code",
   "execution_count": 8,
   "id": "272dbc9c",
   "metadata": {},
   "outputs": [
    {
     "name": "stdout",
     "output_type": "stream",
     "text": [
      "5\n"
     ]
    }
   ],
   "source": [
    "result = add_numbers(2, 3)\n",
    "print(result)  # Output: 5\n"
   ]
  },
  {
   "cell_type": "markdown",
   "id": "741f8771",
   "metadata": {},
   "source": [
    "Functions can also have optional parameters, which have default values if they are not provided by the caller. For example, to define a function that calculates the area of a rectangle, with an optional parameter for the units of measurement,"
   ]
  },
  {
   "cell_type": "code",
   "execution_count": 3,
   "id": "824b8fcf",
   "metadata": {},
   "outputs": [
    {
     "data": {
      "text/plain": [
       "'The area is 56 sq. units'"
      ]
     },
     "execution_count": 3,
     "metadata": {},
     "output_type": "execute_result"
    }
   ],
   "source": [
    "def calculate_area(length, width, units='sq. units'):\n",
    "    area = length * width\n",
    "    return f\"The area is {area} {units}\"\n",
    "\n",
    "calculate_area(8,7)\n"
   ]
  },
  {
   "cell_type": "markdown",
   "id": "b7643926",
   "metadata": {},
   "source": [
    "You can call the calculate_area function with or without the units parameter:\n",
    "\n"
   ]
  },
  {
   "cell_type": "code",
   "execution_count": 10,
   "id": "0903b79b",
   "metadata": {},
   "outputs": [
    {
     "name": "stdout",
     "output_type": "stream",
     "text": [
      "The area is 30 sq. units\n",
      "The area is 30 m^2\n"
     ]
    }
   ],
   "source": [
    "result1 = calculate_area(5, 6)\n",
    "print(result1)  # Output: The area is 30 sq. units\n",
    "\n",
    "result2 = calculate_area(5, 6, 'm^2')\n",
    "print(result2)  # Output: The area is 30 m^2\n"
   ]
  },
  {
   "cell_type": "markdown",
   "id": "5c35ea60",
   "metadata": {},
   "source": [
    "# Lesson 4: Modules"
   ]
  },
  {
   "cell_type": "markdown",
   "id": "041ba203",
   "metadata": {},
   "source": [
    "Modules are pre-written code that you can use in your own programs. They allow you to reuse code that has already been written and tested by other programmers. In Python, you can import modules using the import keyword, followed by the name of the module. For example, to import the math module, which contains various mathematical functions, you would write:"
   ]
  },
  {
   "cell_type": "code",
   "execution_count": 11,
   "id": "18c2c61b",
   "metadata": {},
   "outputs": [],
   "source": [
    "import math\n"
   ]
  },
  {
   "cell_type": "markdown",
   "id": "2b984501",
   "metadata": {},
   "source": [
    "Once you have imported a module, you can use its functions by prefixing them with the module name and a dot. For example, to use the sqrt function from the math module to calculate the square root of a number, "
   ]
  },
  {
   "cell_type": "code",
   "execution_count": 12,
   "id": "966dbd2a",
   "metadata": {},
   "outputs": [
    {
     "name": "stdout",
     "output_type": "stream",
     "text": [
      "5.0\n"
     ]
    }
   ],
   "source": [
    "result = math.sqrt(25)\n",
    "print(result)  # Output: 5.0\n"
   ]
  },
  {
   "cell_type": "markdown",
   "id": "77b799c1",
   "metadata": {},
   "source": [
    "You can also import specific functions from a module using the from keyword, followed by the module name and the function name. For example, to import just the sqrt function from the math module,"
   ]
  },
  {
   "cell_type": "code",
   "execution_count": 14,
   "id": "ee5f029c",
   "metadata": {},
   "outputs": [
    {
     "name": "stdout",
     "output_type": "stream",
     "text": [
      "5.0\n"
     ]
    }
   ],
   "source": [
    "from math import sqrt\n",
    "\n",
    "result = sqrt(25)\n",
    "print(result)  # Output: 5.0\n"
   ]
  },
  {
   "cell_type": "markdown",
   "id": "0d98d341",
   "metadata": {},
   "source": [
    "In addition to the built-in modules that come with Python, there are also many third-party modules available that you can install and use in your programs. To install a third-party module, you can use the pip package manager. For example, to install the requests module, which allows you to make HTTP requests, you would open a terminal or command prompt and type:"
   ]
  },
  {
   "cell_type": "markdown",
   "id": "7ff6acb4",
   "metadata": {},
   "source": [
    "pip install requests\n",
    "\n",
    "#you can import the requests module and use its functions in your program"
   ]
  },
  {
   "cell_type": "markdown",
   "id": "24062a1a",
   "metadata": {},
   "source": [
    "# Lesson 5: File Handling"
   ]
  },
  {
   "cell_type": "markdown",
   "id": "06b2b11e",
   "metadata": {},
   "source": [
    "File handling allows you to read from and write to files on your computer. In Python, you can open a file using the open() function, which takes two arguments: the name of the file, and the mode in which you want to open the file (read, write, append, etc.). For example, to open a file called \"myfile.txt\" for reading, you would write:"
   ]
  },
  {
   "cell_type": "code",
   "execution_count": 18,
   "id": "a72fe928",
   "metadata": {},
   "outputs": [],
   "source": [
    "file=open(\"myfile.txt\",\"r\")"
   ]
  },
  {
   "cell_type": "raw",
   "id": "ca6afac2",
   "metadata": {},
   "source": [
    "Once you have opened a file, you can read its contents using the read() method, \n",
    "or iterate over its lines using a for loop. For example, to read the entire contents of the file\n",
    "and print them to the console, you would write:\n",
    "\n"
   ]
  },
  {
   "cell_type": "code",
   "execution_count": 15,
   "id": "472e468f",
   "metadata": {},
   "outputs": [
    {
     "name": "stdout",
     "output_type": "stream",
     "text": [
      "nwljvnknv\n",
      "vnwkvnk\n"
     ]
    }
   ],
   "source": [
    "contents = file.read()\n",
    "print(contents)\n"
   ]
  },
  {
   "cell_type": "raw",
   "id": "80f9143a",
   "metadata": {},
   "source": [
    "iterate over the lines in the file and print each one, you would write:"
   ]
  },
  {
   "cell_type": "code",
   "execution_count": 19,
   "id": "06caf1f6",
   "metadata": {},
   "outputs": [
    {
     "name": "stdout",
     "output_type": "stream",
     "text": [
      "nwljvnknv\n",
      "\n",
      "vnwkvnk\n"
     ]
    }
   ],
   "source": [
    "for line in file :\n",
    "    print (line)\n",
    "   \n",
    "    "
   ]
  },
  {
   "cell_type": "raw",
   "id": "c76a1d1d",
   "metadata": {},
   "source": [
    "When you are finished working with a file, it is important to close it using the close() method.\n",
    "For example, to close the file we opened earlier, you would write:"
   ]
  },
  {
   "cell_type": "code",
   "execution_count": 20,
   "id": "881ea94b",
   "metadata": {},
   "outputs": [],
   "source": [
    "file.close()"
   ]
  },
  {
   "cell_type": "markdown",
   "id": "cb042eab",
   "metadata": {},
   "source": [
    "similarly If you want to write to a file, you can open it in write mode (\"w\") or append mode (\"a\") "
   ]
  },
  {
   "cell_type": "markdown",
   "id": "dec8b842",
   "metadata": {},
   "source": [
    "Lesson 6: Error Handling\n",
    "\n",
    "In this lesson, you will learn about error handling in Python.\n",
    "\n",
    "When writing programs, it is important to anticipate and handle errors that may occur during execution. \n",
    "In Python, you can handle errors using try-except blocks. \n",
    "A try-except block allows you to try running a block of code, and if an error occurs, \n",
    "you can handle it gracefully without causing the entire program to crash.\n",
    "\n",
    "The basic syntax for a try-except block is as follows:"
   ]
  },
  {
   "cell_type": "code",
   "execution_count": null,
   "id": "9e1d05c1",
   "metadata": {},
   "outputs": [],
   "source": [
    "try:\n",
    "    # Code to try goes here\n",
    "except ExceptionType:\n",
    "    # Code to handle the exception goes here\n"
   ]
  },
  {
   "cell_type": "markdown",
   "id": "25532245",
   "metadata": {},
   "source": [
    "For example, if you want to divide two numbers and handle the case where the second number is zero, \n",
    "you could write:\n",
    "    "
   ]
  },
  {
   "cell_type": "code",
   "execution_count": 23,
   "id": "2dd3a4a8",
   "metadata": {},
   "outputs": [
    {
     "name": "stdout",
     "output_type": "stream",
     "text": [
      "Error: Cannot divide by zero\n"
     ]
    }
   ],
   "source": [
    "try:\n",
    "    result = 10 / 0\n",
    "except ZeroDivisionError:\n",
    "    print(\"Error: Cannot divide by zero\")\n"
   ]
  },
  {
   "cell_type": "markdown",
   "id": "0597637b",
   "metadata": {},
   "source": [
    "the code inside the try block attempts to divide 10 by 0, \n",
    "which would normally raise a ZeroDivisionError. However, \n",
    "because we have a try-except block around the code, \n",
    "the program continues to execute and the message \"Error: Cannot divide by zero\" is printed to the console.\n",
    "\n",
    "You can also use multiple except blocks to handle different types of exceptions. "
   ]
  },
  {
   "cell_type": "code",
   "execution_count": null,
   "id": "1ac32ddf",
   "metadata": {},
   "outputs": [],
   "source": [
    "try:\n",
    "    # Code to try goes here\n",
    "except ZeroDivisionError:\n",
    "    # Code to handle a zero division error goes here\n",
    "except ValueError:\n",
    "    # Code to handle a value error goes here\n",
    "except:\n",
    "    # Code to handle all other types of exceptions goes here\n"
   ]
  },
  {
   "cell_type": "markdown",
   "id": "3a0d31c0",
   "metadata": {},
   "source": [
    "in this example, if a ZeroDivisionError occurs, the code in the first except block will be executed. \n",
    "If a ValueError occurs, the code in the second except block will be executed. If any other type of exception occurs,\n",
    "the code in the third except block will be executed.\n",
    "\n",
    "In addition to handling exceptions using try-except blocks, you can also raise exceptions using the raise statement. For example, to raise a ValueError with a custom message, you would write:\n",
    "\n"
   ]
  },
  {
   "cell_type": "code",
   "execution_count": 26,
   "id": "f576072a",
   "metadata": {},
   "outputs": [
    {
     "name": "stdout",
     "output_type": "stream",
     "text": [
      "valuse ereero caught\n"
     ]
    }
   ],
   "source": [
    "\n",
    "\n",
    "try:\n",
    "    # Code to try goes here\n",
    "    raise ValueError(\"Invalid value\")\n",
    "except ZeroDivisionError:\n",
    "    print (\"ZeroDivisionError\")\n",
    "except ValueError:\n",
    "    print (\"valuse ereero caught\")\n",
    "    # Code to handle a value error goes here\n",
    "except:\n",
    "    print (\"all \")\n"
   ]
  },
  {
   "cell_type": "markdown",
   "id": "e4d062e6",
   "metadata": {},
   "source": [
    "# Lesson 7: Object-Oriented Programming"
   ]
  },
  {
   "cell_type": "raw",
   "id": "933a44e1",
   "metadata": {},
   "source": [
    "OOP is a programming paradigm that revolves around the concept of objects. An object is an instance of a class, which is a blueprint for creating objects. In Python, you define a class using the class keyword, followed by the name of the class and a colon. For example, to define a simple class called Person, you would write:"
   ]
  },
  {
   "cell_type": "code",
   "execution_count": 27,
   "id": "1a9294a7",
   "metadata": {},
   "outputs": [],
   "source": [
    "class Person:\n",
    "    pass\n"
   ]
  },
  {
   "cell_type": "raw",
   "id": "8d8c20b8",
   "metadata": {},
   "source": [
    "In this example, the pass statement is used to indicate that the class has no methods or properties.\n",
    "\n",
    "You can create an instance of a class by calling the class as if it were a function. For example, to create a Person object, you would write:"
   ]
  },
  {
   "cell_type": "code",
   "execution_count": 28,
   "id": "372c003d",
   "metadata": {},
   "outputs": [],
   "source": [
    "person = Person()\n"
   ]
  },
  {
   "cell_type": "raw",
   "id": "91139068",
   "metadata": {},
   "source": [
    "Once you have created an object, you can access its properties and methods using dot notation. For example, if you define a method called say_hello() in the Person class, you could call it on a Person object like this:\n",
    "\n"
   ]
  },
  {
   "cell_type": "code",
   "execution_count": 29,
   "id": "4bc5bf51",
   "metadata": {},
   "outputs": [
    {
     "name": "stdout",
     "output_type": "stream",
     "text": [
      "Hello, world!\n"
     ]
    }
   ],
   "source": [
    "class Person:\n",
    "    def say_hello(self):\n",
    "        print(\"Hello, world!\")\n",
    "\n",
    "person = Person()\n",
    "person.say_hello() # prints \"Hello, world!\"\n"
   ]
  },
  {
   "cell_type": "raw",
   "id": "318a7421",
   "metadata": {},
   "source": [
    "in this example, the self parameter in the say_hello() method refers to the object that the method is being called on.\n",
    "\n",
    "You can also define properties for a class using the init() method, which is called when an object is created. For example, to define a Person class with a name property, you would write:"
   ]
  },
  {
   "cell_type": "code",
   "execution_count": 30,
   "id": "08a7af50",
   "metadata": {},
   "outputs": [
    {
     "name": "stdout",
     "output_type": "stream",
     "text": [
      "Hello, my name is Alice\n"
     ]
    }
   ],
   "source": [
    "class Person:\n",
    "    def __init__(self, name):\n",
    "        self.name = name\n",
    "\n",
    "    def say_hello(self):\n",
    "        print(f\"Hello, my name is {self.name}\")\n",
    "\n",
    "person = Person(\"Alice\")\n",
    "person.say_hello() # prints \"Hello, my name is Alice\"\n"
   ]
  },
  {
   "cell_type": "raw",
   "id": "9eb29a5f",
   "metadata": {},
   "source": [
    "In this example, the name parameter passed to the init() method is used to initialize the name property of the object.\n",
    "\n",
    "In addition to defining classes and objects, Python also supports inheritance, which allows you to create new classes that inherit properties and methods from existing classes. To create a subclass, you define a new class that extends an existing class using the syntax class SubClass(ParentClass):. For example, to create a subclass of the Person class called Employee, you would write:"
   ]
  },
  {
   "cell_type": "code",
   "execution_count": 31,
   "id": "0cf52882",
   "metadata": {},
   "outputs": [
    {
     "name": "stdout",
     "output_type": "stream",
     "text": [
      "Hello, my name is Bob\n",
      "50000\n"
     ]
    }
   ],
   "source": [
    "class Employee(Person):\n",
    "    def __init__(self, name, salary):\n",
    "        super().__init__(name)\n",
    "        self.salary = salary\n",
    "\n",
    "    def get_salary(self):\n",
    "        return self.salary\n",
    "\n",
    "employee = Employee(\"Bob\", 50000)\n",
    "employee.say_hello() # prints \"Hello, my name is Bob\"\n",
    "print(employee.get_salary()) # prints 50000\n"
   ]
  },
  {
   "cell_type": "raw",
   "id": "2e6289f0",
   "metadata": {},
   "source": [
    "n this example, the Employee class extends the Person class using the syntax class Employee(Person):. The super().init(name) call in the init() method initializes the name property of the object using the init() method of the parent class. The get_salary() method is specific to the Employee class and is not inherited from the Person class"
   ]
  },
  {
   "cell_type": "raw",
   "id": "7f9988f7",
   "metadata": {},
   "source": [
    "OOP is a programming paradigm that organizes code into reusable objects, each encapsulating data and behavior. Let's explore some key OOP concepts in Python:\n",
    "\n",
    "Classes and Objects:\n",
    "\n",
    "A class is a blueprint or template that defines the structure and behavior of objects.\n",
    "An object is an instance of a class. It represents a specific occurrence or entity based on the class definition.\n",
    "Attributes and Methods:\n",
    "\n",
    "Attributes are variables that store data within an object. They can be either instance attributes (specific to each object) or class attributes (shared among all objects of the class).\n",
    "Methods are functions defined within a class. They define the behavior of objects and operate on their data.\n",
    "Encapsulation:\n",
    "\n",
    "Encapsulation is the process of hiding internal implementation details of an object and providing access to data only through well-defined methods (getters and setters).\n",
    "It helps ensure data integrity and provides a clear interface for interacting with objects.\n",
    "Inheritance:\n",
    "\n",
    "Inheritance allows a class (child or derived class) to inherit properties and methods from another class (parent or base class).\n",
    "It enables code reuse, promotes hierarchical organization, and supports the concept of specialization and generalization.\n",
    "Polymorphism:\n",
    "\n",
    "Polymorphism allows objects of different classes to be treated as objects of a common superclass.\n",
    "It enables flexibility and extensibility by allowing methods to be overridden in child classes, providing different implementations.\n",
    "Abstraction:\n",
    "\n",
    "Abstraction involves representing complex real-world entities in simplified and generalized ways.\n",
    "It focuses on essential features while hiding unnecessary details, making code more manageable and easier to understand."
   ]
  },
  {
   "cell_type": "code",
   "execution_count": 32,
   "id": "be1d48e2",
   "metadata": {},
   "outputs": [
    {
     "name": "stdout",
     "output_type": "stream",
     "text": [
      "Buddy\n",
      "Animal\n",
      "Woof!\n"
     ]
    }
   ],
   "source": [
    "# Class definition\n",
    "class Animal:\n",
    "    # Class attribute\n",
    "    species = \"Animal\"\n",
    "\n",
    "    # Constructor\n",
    "    def __init__(self, name):\n",
    "        # Instance attribute\n",
    "        self.name = name\n",
    "\n",
    "    # Instance method\n",
    "    def make_sound(self):\n",
    "        pass\n",
    "\n",
    "# Child class inheriting from Animal\n",
    "class Dog(Animal):\n",
    "    # Constructor overriding\n",
    "    def __init__(self, name, breed):\n",
    "        super().__init__(name)  # Call parent's constructor\n",
    "        self.breed = breed\n",
    "\n",
    "    # Method overriding\n",
    "    def make_sound(self):\n",
    "        return \"Woof!\"\n",
    "\n",
    "# Creating objects\n",
    "my_dog = Dog(\"Buddy\", \"Labrador\")\n",
    "\n",
    "# Accessing attributes and methods\n",
    "print(my_dog.name)        # Output: Buddy\n",
    "print(my_dog.species)     # Output: Animal\n",
    "print(my_dog.make_sound())  # Output: Woof!\n"
   ]
  },
  {
   "cell_type": "raw",
   "id": "07a2b3fc",
   "metadata": {},
   "source": [
    " Let's dive into some more advanced OOP concepts in Python:\n",
    "\n",
    "Class Inheritance:\n",
    "\n",
    "Inheritance allows you to create a hierarchy of classes, where child classes inherit attributes and methods from parent classes.\n",
    "Child classes can add additional functionality or override inherited methods as needed.\n",
    "Multiple inheritance is also possible, where a child class can inherit from multiple parent classes.\n",
    "Method Overriding:\n",
    "\n",
    "In OOP, child classes can override methods inherited from parent classes to provide their own implementation.\n",
    "By overriding methods, you can customize the behavior of a specific class while maintaining the overall structure defined in the parent class.\n",
    "Class and Static Methods:\n",
    "\n",
    "In addition to instance methods, Python supports class methods and static methods.\n",
    "Class methods are defined using the @classmethod decorator and operate on the class itself rather than instances of the class.\n",
    "Static methods are defined using the @staticmethod decorator and are independent of both the class and its instances.\n",
    "Abstract Classes and Interfaces:\n",
    "\n",
    "Python supports abstract classes using the abc module. Abstract classes cannot be instantiated and are meant to be subclassed.\n",
    "Abstract methods within abstract classes define method signatures that must be implemented by their subclasses.\n",
    "Interfaces, although not strictly enforced in Python, are similar to abstract classes that define method signatures to be implemented by classes.\n",
    "Composition and Aggregation:\n",
    "\n",
    "Composition represents a \"has-a\" relationship, where a class is composed of one or more other classes as its components.\n",
    "Aggregation is a form of composition, but the component classes can exist independently.\n",
    "These concepts promote code reuse and modular design by allowing classes to be composed of smaller, reusable components.\n",
    "Method Overloading and Operator Overloading:\n",
    "\n",
    "Method overloading refers to defining multiple methods with the same name but different parameters within a class.\n",
    "Python does not natively support method overloading, but you can achieve similar behavior by using default parameter values or variable-length argument lists.\n",
    "Operator overloading allows you to redefine the behavior of built-in operators (+, -, *, etc.) for your custom objects by implementing special methods like __add__, __sub__, etc.\n",
    "These advanced concepts build upon the foundation of OOP in Python and can enhance the flexibility and expressiveness of your code. "
   ]
  },
  {
   "cell_type": "raw",
   "id": "e2274ada",
   "metadata": {},
   "source": [
    "Lesson 8: Modules and Packages\n",
    "\n",
    "In this lesson, you will learn about modules and packages in Python.\n",
    "\n",
    "A module is a file containing Python definitions and statements that can be imported and used in other Python files. You can create your own modules by writing Python code in a file with a .py extension. For example, you could create a module called mymodule.py with the following contents:"
   ]
  },
  {
   "cell_type": "code",
   "execution_count": 33,
   "id": "b713b818",
   "metadata": {},
   "outputs": [],
   "source": [
    "def hello(name):\n",
    "    print(f\"Hello, {name}!\")\n"
   ]
  },
  {
   "cell_type": "raw",
   "id": "562fada5",
   "metadata": {},
   "source": [
    "To use this module in another Python file, you would import it using the import statement. For example, to use the hello() function from the mymodule module, you would write:"
   ]
  },
  {
   "cell_type": "code",
   "execution_count": null,
   "id": "923a8fa8",
   "metadata": {},
   "outputs": [],
   "source": [
    "import mymodule\n",
    "\n",
    "mymodule.hello(\"Alice\") # prints \"Hello, Alice!\"\n"
   ]
  },
  {
   "cell_type": "raw",
   "id": "b5844e0d",
   "metadata": {},
   "source": [
    "Sometimes, you may want to organize your Python code into packages, which are collections of modules that are organized hierarchically in directories. To create a package, you simply create a directory with a special file called init.py inside. The init.py file can contain Python code that will be executed when the package is imported. For example, you could create a package called mypackage with the following directory structure:"
   ]
  },
  {
   "cell_type": "raw",
   "id": "3a5ec07e",
   "metadata": {},
   "source": [
    "mypackage/\n",
    "    __init__.py\n",
    "    module1.py\n",
    "    module2.py\n"
   ]
  },
  {
   "cell_type": "raw",
   "id": "82bde15d",
   "metadata": {},
   "source": [
    "The init.py file could contain Python code that imports and exports the modules in the package. For example, to export the hello() function from the module1 module, you could write:"
   ]
  },
  {
   "cell_type": "code",
   "execution_count": null,
   "id": "19f891b9",
   "metadata": {},
   "outputs": [],
   "source": [
    "from .module1 import hello\n"
   ]
  },
  {
   "cell_type": "raw",
   "id": "7a747d5e",
   "metadata": {},
   "source": [
    "Then, in another Python file, you could import the hello() function using the import statement:"
   ]
  },
  {
   "cell_type": "code",
   "execution_count": null,
   "id": "2b1ae181",
   "metadata": {},
   "outputs": [],
   "source": [
    "import mypackage\n",
    "\n",
    "mypackage.hello(\"Alice\") # prints \"Hello, Alice!\"\n"
   ]
  },
  {
   "cell_type": "markdown",
   "id": "cbe0f076",
   "metadata": {},
   "source": [
    "#  Working with Files"
   ]
  },
  {
   "cell_type": "code",
   "execution_count": null,
   "id": "3d864d32",
   "metadata": {},
   "outputs": [],
   "source": [
    "Python provides a built-in open() function that can be used to open files for reading, writing, or appending. The open() function takes two arguments: the file name and the mode in which to open the file.\n",
    "\n",
    "To open a file for reading, you use the mode \"r\". For example:\n",
    "\n",
    "\n",
    "f = open(\"myfile.txt\", \"r\")\n",
    "To open a file for writing, you use the mode \"w\". If the file already exists, \n",
    "its contents will be overwritten. For example:\n",
    "\n",
    "\n",
    "f = open(\"myfile.txt\", \"w\")\n",
    "To open a file for appending, you use the mode \"a\". If the file already exists, \n",
    "new data will be written at the end of the file. For example:\n",
    "\n",
    "\n",
    "f = open(\"myfile.txt\", \"a\")\n",
    "Once a file is open, you can read or write data to it using the file \n",
    "object's read(), readline(), or write() methods. For example:\n",
    "\n",
    "\n",
    "f = open(\"myfile.txt\", \"r\")\n",
    "\n",
    "data = f.read()\n",
    "\n",
    "print(data)\n",
    "\n",
    "f.close()\n"
   ]
  },
  {
   "cell_type": "markdown",
   "id": "f920b9df",
   "metadata": {},
   "source": [
    "# Error Handling"
   ]
  },
  {
   "cell_type": "raw",
   "id": "2943af17",
   "metadata": {},
   "source": [
    "# When writing programs, it is common to encounter errors, such as invalid input or file not found errors. These errors can cause your program to crash or behave unexpectedly.\n",
    "\n",
    "To handle errors in Python, you can use the try-except statement. The try block contains the code that might cause an error, and the except block contains the code to handle the error.\n",
    "\n"
   ]
  },
  {
   "cell_type": "code",
   "execution_count": 36,
   "id": "f64eabb1",
   "metadata": {},
   "outputs": [
    {
     "name": "stdout",
     "output_type": "stream",
     "text": [
      "Enter a number: 10\n",
      "The result is: 1.0\n",
      "Done.\n"
     ]
    }
   ],
   "source": [
    "try:\n",
    "    x = int(input(\"Enter a number: \"))\n",
    "    y = 10 / x\n",
    "except ValueError:\n",
    "    print(\"Invalid input.\")\n",
    "except ZeroDivisionError:\n",
    "    print(\"Cannot divide by zero.\")\n",
    "else:\n",
    "    print(\"The result is:\", y)\n",
    "finally:\n",
    "    print(\"Done.\")\n"
   ]
  },
  {
   "cell_type": "markdown",
   "id": "a70c6473",
   "metadata": {},
   "source": [
    "# Working with JSON Data"
   ]
  },
  {
   "cell_type": "raw",
   "id": "7df9916f",
   "metadata": {},
   "source": [
    "JSON (JavaScript Object Notation) is a lightweight data interchange format that is easy for humans to read and write, and easy for machines to parse and generate. JSON is widely used as a data format for web applications and APIs.\n",
    "\n",
    "Python provides built-in support for working with JSON data through the json module. The json module provides two methods: dumps() and loads().\n",
    "\n",
    "Converting Python Objects to JSON\n",
    "\n",
    "To convert a Python object to a JSON string, you can use the dumps() method. The dumps() method takes a Python object as an argument and returns a JSON-formatted string. For example:"
   ]
  },
  {
   "cell_type": "code",
   "execution_count": 37,
   "id": "6120bd0e",
   "metadata": {},
   "outputs": [
    {
     "name": "stdout",
     "output_type": "stream",
     "text": [
      "{\"name\": \"John\", \"age\": 30, \"city\": \"New York\"}\n"
     ]
    }
   ],
   "source": [
    "import json\n",
    "\n",
    "data = {\n",
    "    \"name\": \"John\",\n",
    "    \"age\": 30,\n",
    "    \"city\": \"New York\"\n",
    "}\n",
    "\n",
    "json_string = json.dumps(data)\n",
    "\n",
    "print(json_string)\n"
   ]
  },
  {
   "cell_type": "raw",
   "id": "3e95948c",
   "metadata": {},
   "source": [
    "Converting JSON to Python Objects\n",
    "\n",
    "To convert a JSON string to a Python object, you can use the loads() method. The loads() method takes a JSON-formatted string as an argument and returns a Python object. For example:"
   ]
  },
  {
   "cell_type": "code",
   "execution_count": 38,
   "id": "33e98b10",
   "metadata": {},
   "outputs": [
    {
     "name": "stdout",
     "output_type": "stream",
     "text": [
      "John\n",
      "30\n",
      "New York\n"
     ]
    }
   ],
   "source": [
    "import json\n",
    "\n",
    "json_string = '{\"name\": \"John\", \"age\": 30, \"city\": \"New York\"}'\n",
    "\n",
    "data = json.loads(json_string)\n",
    "\n",
    "print(data[\"name\"])\n",
    "print(data[\"age\"])\n",
    "print(data[\"city\"])\n"
   ]
  },
  {
   "cell_type": "markdown",
   "id": "78d0d96d",
   "metadata": {},
   "source": [
    "# Working with Databases in Python"
   ]
  },
  {
   "cell_type": "raw",
   "id": "b338d3d9",
   "metadata": {},
   "source": [
    "SQLite is a lightweight and fast relational database management system that is widely used in embedded systems, mobile devices, and web applications. SQLite is included as a built-in module in Python, so you don't need to install any additional software to work with it.\n",
    "\n",
    "Creating a Database\n",
    "\n",
    "To create a new SQLite database, you can use the sqlite3 module. The following example creates a new database file called example.db and creates a table called users with three columns:"
   ]
  },
  {
   "cell_type": "code",
   "execution_count": 39,
   "id": "72073e21",
   "metadata": {},
   "outputs": [],
   "source": [
    "import sqlite3\n",
    "\n",
    "# Create a new database file\n",
    "conn = sqlite3.connect(\"example.db\")\n",
    "\n",
    "# Create a new table\n",
    "conn.execute(\"\"\"\n",
    "CREATE TABLE users (\n",
    "    id INTEGER PRIMARY KEY,\n",
    "    name TEXT,\n",
    "    age INTEGER\n",
    ")\n",
    "\"\"\")\n",
    "\n",
    "# Close the database connection\n",
    "conn.close()\n"
   ]
  },
  {
   "cell_type": "raw",
   "id": "bee8eca3",
   "metadata": {},
   "source": [
    "Inserting Data\n",
    "\n",
    "To insert data into a table, you can use the execute() method of the database connection object. The following example inserts a new row into the users table:"
   ]
  },
  {
   "cell_type": "code",
   "execution_count": 40,
   "id": "78bb24ff",
   "metadata": {},
   "outputs": [],
   "source": [
    "import sqlite3\n",
    "\n",
    "# Open the database connection\n",
    "conn = sqlite3.connect(\"example.db\")\n",
    "\n",
    "# Insert a new row\n",
    "conn.execute(\"INSERT INTO users (name, age) VALUES (?, ?)\", (\"John\", 30))\n",
    "\n",
    "# Commit the transaction\n",
    "conn.commit()\n",
    "\n",
    "# Close the database connection\n",
    "conn.close()\n"
   ]
  },
  {
   "cell_type": "raw",
   "id": "941bd2c9",
   "metadata": {},
   "source": [
    "Querying Data\n",
    "\n",
    "To query data from a table, you can use the execute() method to execute a SELECT statement. The following example queries all rows from the users table and prints the results:"
   ]
  },
  {
   "cell_type": "code",
   "execution_count": 41,
   "id": "8867d100",
   "metadata": {},
   "outputs": [
    {
     "name": "stdout",
     "output_type": "stream",
     "text": [
      "(1, 'John', 30)\n"
     ]
    }
   ],
   "source": [
    "import sqlite3\n",
    "\n",
    "# Open the database connection\n",
    "conn = sqlite3.connect(\"example.db\")\n",
    "\n",
    "# Query the database\n",
    "cursor = conn.execute(\"SELECT * FROM users\")\n",
    "for row in cursor:\n",
    "    print(row)\n",
    "\n",
    "# Close the database connection\n",
    "conn.close()\n"
   ]
  },
  {
   "cell_type": "raw",
   "id": "5444b231",
   "metadata": {},
   "source": [
    "# Updating Data\n",
    "\n",
    "To update data in a table, you can use the execute() method to execute an UPDATE statement. The following example updates the age of the user with id=1:"
   ]
  },
  {
   "cell_type": "code",
   "execution_count": 42,
   "id": "9599bf40",
   "metadata": {},
   "outputs": [],
   "source": [
    "import sqlite3\n",
    "\n",
    "# Open the database connection\n",
    "conn = sqlite3.connect(\"example.db\")\n",
    "\n",
    "# Update a row\n",
    "conn.execute(\"UPDATE users SET age=? WHERE id=?\", (40, 1))\n",
    "\n",
    "# Commit the transaction\n",
    "conn.commit()\n",
    "\n",
    "# Close the database connection\n",
    "conn.close()\n"
   ]
  },
  {
   "cell_type": "raw",
   "id": "8934ef9b",
   "metadata": {},
   "source": [
    "Deleting Data\n",
    "\n",
    "To delete data from a table, you can use the execute() method to execute a DELETE statement. The following example deletes the user with id=1:"
   ]
  },
  {
   "cell_type": "code",
   "execution_count": 43,
   "id": "84f526fa",
   "metadata": {},
   "outputs": [],
   "source": [
    "import sqlite3\n",
    "\n",
    "# Open the database connection\n",
    "conn = sqlite3.connect(\"example.db\")\n",
    "\n",
    "# Delete a row\n",
    "conn.execute(\"DELETE FROM users WHERE id=?\", (1,))\n",
    "\n",
    "# Commit the transaction\n",
    "conn.commit()\n",
    "\n",
    "# Close the database connection\n",
    "conn.close()\n"
   ]
  },
  {
   "cell_type": "raw",
   "id": "a1b15901",
   "metadata": {},
   "source": [
    " learned about working with databases in Python using the SQLite database. You learned how to create a database, create tables, insert data, query data, update data, and delete data. In the next lesson, you will learn about working with external modules and libraries in Python."
   ]
  },
  {
   "cell_type": "markdown",
   "id": "fc1afe60",
   "metadata": {},
   "source": [
    "# Generator and Iterator"
   ]
  },
  {
   "cell_type": "raw",
   "id": "3ecfdffb",
   "metadata": {},
   "source": [
    "In Python, a generator is a special type of function that generates a sequence of values on-the-fly, as opposed to returning them all at once like a regular function. Generators are used to create iterable objects that can be iterated over using a loop or consumed using functions like next().\n",
    "\n",
    "Generators are defined using a special syntax that involves the yield keyword. When a generator function is called, it returns an iterator object that can be used to iterate over the values produced by the generator.\n",
    "\n",
    "Here's an example of a simple generator function that generates a sequence of numbers:"
   ]
  },
  {
   "cell_type": "code",
   "execution_count": 44,
   "id": "660c235f",
   "metadata": {},
   "outputs": [
    {
     "name": "stdout",
     "output_type": "stream",
     "text": [
      "1\n",
      "2\n",
      "3\n"
     ]
    }
   ],
   "source": [
    "def number_generator():\n",
    "    yield 1\n",
    "    yield 2\n",
    "    yield 3\n",
    "\n",
    "# Using the generator function\n",
    "generator = number_generator()\n",
    "\n",
    "print(next(generator))  # Output: 1\n",
    "print(next(generator))  # Output: 2\n",
    "print(next(generator))  # Output: 3\n"
   ]
  },
  {
   "cell_type": "raw",
   "id": "f7a4a205",
   "metadata": {},
   "source": [
    "In this example, the number_generator() function is a generator that yields a sequence of numbers. When the generator is called, it returns an iterator object. Each call to next() on the iterator retrieves the next value yielded by the generator.\n",
    "\n",
    "Generators are memory-efficient because they generate values on-the-fly, one at a time, instead of storing all the values in memory at once. This makes them useful for working with large data sets or when you don't need to access all the values at once.\n",
    "\n",
    "Generators can also be used in for loops directly:"
   ]
  },
  {
   "cell_type": "code",
   "execution_count": 45,
   "id": "d1cb8664",
   "metadata": {},
   "outputs": [
    {
     "name": "stdout",
     "output_type": "stream",
     "text": [
      "1\n",
      "2\n",
      "3\n"
     ]
    }
   ],
   "source": [
    "for number in number_generator():\n",
    "    print(number)\n"
   ]
  },
  {
   "cell_type": "raw",
   "id": "bb947140",
   "metadata": {},
   "source": [
    "You can also create generators using generator expressions, which are similar to list comprehensions but generate values lazily. Generator expressions are enclosed in parentheses instead of square brackets.\n",
    "\n"
   ]
  },
  {
   "cell_type": "code",
   "execution_count": 46,
   "id": "af6399be",
   "metadata": {},
   "outputs": [
    {
     "name": "stdout",
     "output_type": "stream",
     "text": [
      "0\n",
      "2\n",
      "4\n",
      "6\n",
      "8\n"
     ]
    }
   ],
   "source": [
    "even_numbers = (x for x in range(10) if x % 2 == 0)\n",
    "\n",
    "for number in even_numbers:\n",
    "    print(number)\n"
   ]
  },
  {
   "cell_type": "markdown",
   "id": "c585f0f1",
   "metadata": {},
   "source": [
    "An iterator in Python is an object that enables iteration over a sequence of values or elements. It provides a way to access the elements of a container or generate values on-the-fly without having to know the underlying implementation details. Iterators are extensively used in Python for looping constructs like for loops and comprehensions.\n",
    "\n",
    "To understand iterators, it's important to know about two methods: iter() and next().\n",
    "\n",
    "The iter() function:\n",
    "The iter() function is used to create an iterator from an iterable object. It returns an iterator object that can be used to traverse the elements of the iterable.\n",
    "\n",
    "The next() function:\n",
    "The next() function is used to retrieve the next element from an iterator. When called, it returns the next value from the iterator. If there are no more elements, it raises the StopIteration exception.\n",
    "\n"
   ]
  },
  {
   "cell_type": "code",
   "execution_count": 47,
   "id": "a38ac503",
   "metadata": {},
   "outputs": [
    {
     "name": "stdout",
     "output_type": "stream",
     "text": [
      "1\n",
      "2\n",
      "3\n"
     ]
    }
   ],
   "source": [
    "my_list = [1, 2, 3, 4, 5]\n",
    "my_iterator = iter(my_list)\n",
    "\n",
    "print(next(my_iterator))  # Output: 1\n",
    "print(next(my_iterator))  # Output: 2\n",
    "print(next(my_iterator))  # Output: 3\n"
   ]
  },
  {
   "cell_type": "markdown",
   "id": "4b2f2eb9",
   "metadata": {},
   "source": [
    "In this example, the iter() function is used to create an iterator my_iterator from the list my_list. The next() function is then used to retrieve each element from the iterator.\n",
    "\n",
    "Additionally, Python supports the iteration protocol, which allows objects to define their own iteration behavior. To create a custom iterator, an object needs to implement the __iter__() and __next__() methods.\n",
    "\n",
    "The __iter__() method returns the iterator object itself.\n",
    "The __next__() method returns the next element from the iterator or raises StopIteration if there are no more elements"
   ]
  },
  {
   "cell_type": "code",
   "execution_count": 48,
   "id": "46bcbc31",
   "metadata": {},
   "outputs": [
    {
     "name": "stdout",
     "output_type": "stream",
     "text": [
      "0\n",
      "2\n",
      "4\n",
      "6\n",
      "8\n",
      "10\n"
     ]
    }
   ],
   "source": [
    "#custome Iterator\n",
    "\n",
    "class EvenNumbers:\n",
    "    def __init__(self, limit):\n",
    "        self.limit = limit\n",
    "        self.current = 0\n",
    "\n",
    "    def __iter__(self):\n",
    "        return self\n",
    "\n",
    "    def __next__(self):\n",
    "        if self.current <= self.limit:\n",
    "            result = self.current\n",
    "            self.current += 2\n",
    "            return result\n",
    "        else:\n",
    "            raise StopIteration\n",
    "\n",
    "my_numbers = EvenNumbers(10)\n",
    "\n",
    "for num in my_numbers:\n",
    "    print(num)\n"
   ]
  },
  {
   "cell_type": "markdown",
   "id": "e1064174",
   "metadata": {},
   "source": [
    "In this example, the EvenNumbers class is a custom iterator that generates even numbers up to a specified limit. It implements the __iter__() and __next__() methods to define the iteration behavior. The for loop is then used to iterate over the custom iterator and print the numbers.\n",
    "\n",
    "Iterators are a fundamental concept in Python and are widely used to iterate over data structures, files, network streams, and other iterable objects. They provide a flexible and memory-efficient way to access elements or generate values dynamically during iteration."
   ]
  },
  {
   "cell_type": "code",
   "execution_count": null,
   "id": "ded25150",
   "metadata": {},
   "outputs": [],
   "source": []
  }
 ],
 "metadata": {
  "kernelspec": {
   "display_name": "Python 3 (ipykernel)",
   "language": "python",
   "name": "python3"
  },
  "language_info": {
   "codemirror_mode": {
    "name": "ipython",
    "version": 3
   },
   "file_extension": ".py",
   "mimetype": "text/x-python",
   "name": "python",
   "nbconvert_exporter": "python",
   "pygments_lexer": "ipython3",
   "version": "3.9.13"
  },
  "widgets": {
   "application/vnd.jupyter.widget-state+json": {
    "state": {},
    "version_major": 2,
    "version_minor": 0
   }
  }
 },
 "nbformat": 4,
 "nbformat_minor": 5
}
